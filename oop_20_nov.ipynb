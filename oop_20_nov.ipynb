{
  "nbformat": 4,
  "nbformat_minor": 0,
  "metadata": {
    "colab": {
      "provenance": []
    },
    "kernelspec": {
      "name": "python3",
      "display_name": "Python 3"
    },
    "language_info": {
      "name": "python"
    }
  },
  "cells": [
    {
      "cell_type": "markdown",
      "source": [
        "write a python pgm to create two empty classes, student and marks. now create some instances and check whether they are instances of the said classes or not. Also, check whether the said classes are subclasses of the built-in object class or not.\n",
        "\n",
        "create a python class called birthdayboy that takes 2 variable:\n",
        "a string name\n",
        "an integer age\n",
        "within birthdayboy create a method called birthday that increases the value of age by 1.\n",
        "once this class has been created, create an instance of the class then call birthday methods on that to increase its age and print the same\n",
        "\n",
        "define a class called songs, it will show the lyrics of a song. its init method should have two arguments self and lyrics. lyrics is a list. inside your class create a method called sing_me_a_song that prints each element of lyrics on his own line. define a variable happy_bday=song([\"may god bless you,\",\"have a sunshine on you,\",\"happy birthday to you!\"])\n",
        "call the sing_me_a_song method on this variable\n",
        "\n",
        "class dog attributes:name,size,breed default=unknown, dob in ddmmyyyy fromat default=unknown\n",
        "methods:\n",
        "bark- this should get the dog to bark, print woof\n",
        "get_name= return the dog's name\n",
        "set_name-allow the user to set an alphabetical name between 2 and 30 characters.convert name to title case before setting\n",
        "dog_years-calculate dog's age in dog years(1 year=7 dog years)\n"
      ],
      "metadata": {
        "id": "vK8iMlYLTqBD"
      }
    },
    {
      "cell_type": "code",
      "execution_count": 3,
      "metadata": {
        "colab": {
          "base_uri": "https://localhost:8080/"
        },
        "id": "4LL8NUJ3TRaV",
        "outputId": "89b56934-866a-499c-f22c-32a793d3def2"
      },
      "outputs": [
        {
          "output_type": "stream",
          "name": "stdout",
          "text": [
            "whether s1 is instance of student: True\n",
            "whether m1 is instance of student: False\n",
            "whether s1 is instance of marks: False\n",
            "whether m1 is instance of marks: True\n",
            "classes are subclasses of built in object or not\n",
            "\n",
            "True\n",
            "True\n"
          ]
        }
      ],
      "source": [
        "class student:\n",
        "  pass\n",
        "class marks:\n",
        "  pass\n",
        "s1=student()\n",
        "m1=marks()\n",
        "print(\"whether s1 is instance of student:\",isinstance(s1,student))\n",
        "print(\"whether m1 is instance of student:\",isinstance(m1,student))\n",
        "print(\"whether s1 is instance of marks:\",isinstance(s1,marks))\n",
        "print(\"whether m1 is instance of marks:\",isinstance(m1,marks))\n",
        "print(\"Whether classes are subclasses of built in object or not:\")\n",
        "print(issubclass(student, object))\n",
        "print(issubclass(marks, object))"
      ]
    },
    {
      "cell_type": "code",
      "source": [
        "class birthdayboy:\n",
        "  def __init__(self,name,age):\n",
        "    self.name=name\n",
        "    self.age=age\n",
        "  def birthday(self):\n",
        "    return self.age+1,self.name\n",
        "n=input(\"enter the name:\\n\")\n",
        "a=int(input(\"enter the age:\\n\"))\n",
        "birthday_methods=birthdayboy(n,a)\n",
        "age,nam=birthday_methods.birthday()\n",
        "print(\"Updated age of\",nam,\"is:\",age)"
      ],
      "metadata": {
        "colab": {
          "base_uri": "https://localhost:8080/"
        },
        "id": "A5SkyvUZVfny",
        "outputId": "030470e3-d9c1-4890-b9e8-662006938789"
      },
      "execution_count": 12,
      "outputs": [
        {
          "output_type": "stream",
          "name": "stdout",
          "text": [
            "enter the name:\n",
            "abc\n",
            "enter the age:\n",
            "56\n",
            "Updated age of abc is: 57\n"
          ]
        }
      ]
    },
    {
      "cell_type": "code",
      "source": [
        "class songs:\n",
        "  def __init__(self,lyrics):\n",
        "    self.lyrics=lyrics\n",
        "  def sing_me_a_song(self):\n",
        "    print(\"Lyrics are:\")\n",
        "    for i in self.lyrics:\n",
        "      print(i)\n",
        "\n",
        "happy_bday=songs([\"May god bless you,\",\"Have a sunshine on you,\",\"Happy birthday to you!\"])\n",
        "happy_bday.sing_me_a_song()"
      ],
      "metadata": {
        "colab": {
          "base_uri": "https://localhost:8080/"
        },
        "id": "8RHF4EdkZxYQ",
        "outputId": "32748c50-1605-497d-ce4e-4897adf331c0"
      },
      "execution_count": 21,
      "outputs": [
        {
          "output_type": "stream",
          "name": "stdout",
          "text": [
            "Lyrics are:\n",
            "May god bless you,\n",
            "Have a sunshine on you,\n",
            "Happy birthday to you!\n"
          ]
        }
      ]
    },
    {
      "cell_type": "code",
      "source": [
        "from datetime import datetime\n",
        "class dog:\n",
        "  def __init__(self,name,size,breed='unknown',dob='unknown'):\n",
        "    self.name=name\n",
        "    self.size=size\n",
        "    self.breed=breed\n",
        "    self.dob=dob\n",
        "  def bark(self):\n",
        "    print(\"woof!\")\n",
        "  def get_name(self):\n",
        "    print(\"Dog's name is:\",self.name)\n",
        "  def set_name(self,new_name):\n",
        "    if 2<=len(new_name)<=30 and new_name.isalpha():\n",
        "      self.name=new_name.title()\n",
        "      print(\"New name is:\", self.name)\n",
        "    else:\n",
        "      print(\"Invalid Name\")\n",
        "  def dog_years(self):\n",
        "        if self.dob != \"unknown\":\n",
        "            birth_date = datetime.strptime(self.dob, \"%d%m%Y\")\n",
        "            current_date = datetime.now()\n",
        "            age_in_years = (current_date - birth_date).days // 365\n",
        "            age_in_dog_years = age_in_years * 7\n",
        "            return age_in_dog_years\n",
        "        else:\n",
        "            print(\"Unknown birthdate. Cannot calculate age in dog years.\")\n",
        "\n",
        "        # yob=self.dob[6:]\n",
        "        # year=int(yob)\n",
        "        # age=(cur_year-year)*7\n",
        "my_dog = dog(name=\"Buddy\", size=\"Medium\", breed=\"Labrador\", dob=\"01012018\")\n",
        "\n",
        "my_dog.bark()\n",
        "print(f\"Dog's name: {my_dog.get_name()}\")\n",
        "my_dog.set_name(\"Max\")\n",
        "print(f\"Dog's age in dog years: {my_dog.dog_years()}\")"
      ],
      "metadata": {
        "colab": {
          "base_uri": "https://localhost:8080/"
        },
        "id": "C1mYCiYTfMO-",
        "outputId": "9f151f89-74f5-4826-df38-02c3538308c8"
      },
      "execution_count": 25,
      "outputs": [
        {
          "output_type": "stream",
          "name": "stdout",
          "text": [
            "woof!\n",
            "Dog's name is: Buddy\n",
            "Dog's name: None\n",
            "New name is: Max\n",
            "Dog's age in dog years: 35\n"
          ]
        }
      ]
    },
    {
      "cell_type": "code",
      "source": [],
      "metadata": {
        "id": "BPaoE9jWiGNY"
      },
      "execution_count": null,
      "outputs": []
    }
  ]
}