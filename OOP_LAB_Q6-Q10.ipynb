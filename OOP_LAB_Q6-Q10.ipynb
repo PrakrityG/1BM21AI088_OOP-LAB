{
  "nbformat": 4,
  "nbformat_minor": 0,
  "metadata": {
    "colab": {
      "provenance": []
    },
    "kernelspec": {
      "name": "python3",
      "display_name": "Python 3"
    },
    "language_info": {
      "name": "python"
    }
  },
  "cells": [
    {
      "cell_type": "markdown",
      "source": [
        "6.\n",
        "a. Create a base class called Father and derived class called Son which extends  the base class. In Father class, implement a constructor which takes the age and throws the user defined exception WrongAge( ) when the input age<0. In Son class, implement a constructor that checks both father and son’s age and throws an using defined exception AgeInvalid( ) if son’s age is >=father’s age.\n"
      ],
      "metadata": {
        "id": "CAT-Z-WRAhTZ"
      }
    },
    {
      "cell_type": "code",
      "source": [
        "class WrongAge(Exception):\n",
        "  pass\n",
        "class AgeInvalid(Exception):\n",
        "  pass\n",
        "class Father:\n",
        "    def __init__(self, age):\n",
        "        self.father_age=age\n",
        "        if age < 0:\n",
        "            raise WrongAge(\"Error: Father's age cannot be negative\")\n",
        "class Son(Father):\n",
        "    def __init__(self, father_age, son_age):\n",
        "        super().__init__(father_age)\n",
        "        self.son_age=son_age\n",
        "        if self.son_age >= self.father_age:\n",
        "            raise AgeInvalid(\"Error: Son's age should be less than Father's age\")\n",
        "try:\n",
        "    father_age_input = int(input(\"Enter Father's age: \"))\n",
        "    son_age_input = int(input(\"Enter Son's age: \"))\n",
        "    father = Father(father_age_input)\n",
        "    son = Son(father_age_input, son_age_input)\n",
        "    print(\"Father's age:\", father_age_input)\n",
        "    print(\"Son's age:\", son_age_input)\n",
        "except ValueError as ve:\n",
        "    print(ve)\n",
        "    print(\"Invalid input. Please enter valid integers for ages.\")"
      ],
      "metadata": {
        "colab": {
          "base_uri": "https://localhost:8080/",
          "height": 401
        },
        "id": "GtTwj1-vAhEH",
        "outputId": "d0e239f1-b5ff-4b9f-8815-904202c4e8a4"
      },
      "execution_count": null,
      "outputs": [
        {
          "name": "stdout",
          "output_type": "stream",
          "text": [
            "Enter Father's age: 4\n",
            "Enter Son's age: 8\n"
          ]
        },
        {
          "output_type": "error",
          "ename": "AgeInvalid",
          "evalue": "Error: Son's age should be less than Father's age",
          "traceback": [
            "\u001b[0;31m---------------------------------------------------------------------------\u001b[0m",
            "\u001b[0;31mAgeInvalid\u001b[0m                                Traceback (most recent call last)",
            "\u001b[0;32m<ipython-input-9-39742ecb6b87>\u001b[0m in \u001b[0;36m<cell line: 16>\u001b[0;34m()\u001b[0m\n\u001b[1;32m     18\u001b[0m     \u001b[0mson_age_input\u001b[0m \u001b[0;34m=\u001b[0m \u001b[0mint\u001b[0m\u001b[0;34m(\u001b[0m\u001b[0minput\u001b[0m\u001b[0;34m(\u001b[0m\u001b[0;34m\"Enter Son's age: \"\u001b[0m\u001b[0;34m)\u001b[0m\u001b[0;34m)\u001b[0m\u001b[0;34m\u001b[0m\u001b[0;34m\u001b[0m\u001b[0m\n\u001b[1;32m     19\u001b[0m     \u001b[0mfather\u001b[0m \u001b[0;34m=\u001b[0m \u001b[0mFather\u001b[0m\u001b[0;34m(\u001b[0m\u001b[0mfather_age_input\u001b[0m\u001b[0;34m)\u001b[0m\u001b[0;34m\u001b[0m\u001b[0;34m\u001b[0m\u001b[0m\n\u001b[0;32m---> 20\u001b[0;31m     \u001b[0mson\u001b[0m \u001b[0;34m=\u001b[0m \u001b[0mSon\u001b[0m\u001b[0;34m(\u001b[0m\u001b[0mfather_age_input\u001b[0m\u001b[0;34m,\u001b[0m \u001b[0mson_age_input\u001b[0m\u001b[0;34m)\u001b[0m\u001b[0;34m\u001b[0m\u001b[0;34m\u001b[0m\u001b[0m\n\u001b[0m\u001b[1;32m     21\u001b[0m     \u001b[0mprint\u001b[0m\u001b[0;34m(\u001b[0m\u001b[0;34m\"Father's age:\"\u001b[0m\u001b[0;34m,\u001b[0m \u001b[0mfather_age_input\u001b[0m\u001b[0;34m)\u001b[0m\u001b[0;34m\u001b[0m\u001b[0;34m\u001b[0m\u001b[0m\n\u001b[1;32m     22\u001b[0m     \u001b[0mprint\u001b[0m\u001b[0;34m(\u001b[0m\u001b[0;34m\"Son's age:\"\u001b[0m\u001b[0;34m,\u001b[0m \u001b[0mson_age_input\u001b[0m\u001b[0;34m)\u001b[0m\u001b[0;34m\u001b[0m\u001b[0;34m\u001b[0m\u001b[0m\n",
            "\u001b[0;32m<ipython-input-9-39742ecb6b87>\u001b[0m in \u001b[0;36m__init__\u001b[0;34m(self, father_age, son_age)\u001b[0m\n\u001b[1;32m     13\u001b[0m         \u001b[0mself\u001b[0m\u001b[0;34m.\u001b[0m\u001b[0mson_age\u001b[0m\u001b[0;34m=\u001b[0m\u001b[0mson_age\u001b[0m\u001b[0;34m\u001b[0m\u001b[0;34m\u001b[0m\u001b[0m\n\u001b[1;32m     14\u001b[0m         \u001b[0;32mif\u001b[0m \u001b[0mself\u001b[0m\u001b[0;34m.\u001b[0m\u001b[0mson_age\u001b[0m \u001b[0;34m>=\u001b[0m \u001b[0mself\u001b[0m\u001b[0;34m.\u001b[0m\u001b[0mfather_age\u001b[0m\u001b[0;34m:\u001b[0m\u001b[0;34m\u001b[0m\u001b[0;34m\u001b[0m\u001b[0m\n\u001b[0;32m---> 15\u001b[0;31m             \u001b[0;32mraise\u001b[0m \u001b[0mAgeInvalid\u001b[0m\u001b[0;34m(\u001b[0m\u001b[0;34m\"Error: Son's age should be less than Father's age\"\u001b[0m\u001b[0;34m)\u001b[0m\u001b[0;34m\u001b[0m\u001b[0;34m\u001b[0m\u001b[0m\n\u001b[0m\u001b[1;32m     16\u001b[0m \u001b[0;32mtry\u001b[0m\u001b[0;34m:\u001b[0m\u001b[0;34m\u001b[0m\u001b[0;34m\u001b[0m\u001b[0m\n\u001b[1;32m     17\u001b[0m     \u001b[0mfather_age_input\u001b[0m \u001b[0;34m=\u001b[0m \u001b[0mint\u001b[0m\u001b[0;34m(\u001b[0m\u001b[0minput\u001b[0m\u001b[0;34m(\u001b[0m\u001b[0;34m\"Enter Father's age: \"\u001b[0m\u001b[0;34m)\u001b[0m\u001b[0;34m)\u001b[0m\u001b[0;34m\u001b[0m\u001b[0;34m\u001b[0m\u001b[0m\n",
            "\u001b[0;31mAgeInvalid\u001b[0m: Error: Son's age should be less than Father's age"
          ]
        }
      ]
    },
    {
      "cell_type": "markdown",
      "source": [
        "b. You're going to write an interactive calculator! User input is assumed to be a formula that consist of a number, an operator (at least + and -), and another number, separated by white space (e.g. 1 + 1). Split user input using str.split(), and check whether the resulting list is valid:\n",
        "If the input does not consist of 3 elements, raise a FormulaError, which is a custom Exception.\n",
        "try to convert the first and third input to a float (like so: float_value = float(str_value)). Catch any ValueError that occurs, and instead raise a FormulaError\n",
        "If the second input is not '+' or '-', again raise a FormulaError\n",
        "If the input is valid, perform the calculation and print out the result. The user is then prompted to provide new input, and so on, until the user enters quit.\n"
      ],
      "metadata": {
        "id": "FWr5q-XQUEy-"
      }
    },
    {
      "cell_type": "code",
      "source": [
        "class FormulaError(Exception):\n",
        "    pass\n",
        "def calculate(formula):\n",
        "    try:\n",
        "        parts = formula.split()\n",
        "        if len(parts) != 3:\n",
        "            raise FormulaError(\"Invalid formula. Please enter a formula with the format: number operator number\")\n",
        "        num1 = float(parts[0])\n",
        "        operator = parts[1]\n",
        "        num2 = float(parts[2])\n",
        "        if operator not in ['+', '-']:\n",
        "            raise FormulaError(\"Invalid operator. Please use '+' or '-'\")\n",
        "        result = num1 + num2 if operator == '+' else num1 - num2\n",
        "        print(\"Result:\", result)\n",
        "    except ValueError:\n",
        "        raise FormulaError(\"Invalid number. Please enter valid numerical values.\")\n",
        "while True:\n",
        "    try:\n",
        "        user_input = input(\"Enter a formula (or 'quit' to exit): \")\n",
        "        if user_input.lower() == 'quit':\n",
        "            break\n",
        "        calculate(user_input)\n",
        "    except FormulaError as fe:\n",
        "        print(f\"Error: {fe}\")"
      ],
      "metadata": {
        "colab": {
          "base_uri": "https://localhost:8080/"
        },
        "id": "WVkRrjdqB1VT",
        "outputId": "c67d01ad-9b19-426b-f875-8c95cd3ce1f8"
      },
      "execution_count": null,
      "outputs": [
        {
          "name": "stdout",
          "output_type": "stream",
          "text": [
            "Enter a formula (or 'quit' to exit): 2+3\n",
            "Error: Invalid formula. Please enter a formula with the format: number operator number\n",
            "Enter a formula (or 'quit' to exit): 2 + 3\n",
            "Result: 5.0\n",
            "Enter a formula (or 'quit' to exit): quit\n"
          ]
        }
      ]
    },
    {
      "cell_type": "markdown",
      "source": [
        "7. Write a Pygame program that draws the following shapes with the specified dimensions:\n",
        "a. Polygon:\n",
        "Draw a blue polygon with vertices at (146, 0), (291, 106), (236, 277), (56, 277), and (0, 106).\n",
        "b. Line:\n",
        "Draw a green line from point (60, 300) to point (120, 300) with a thickness of 4 pixels.\n",
        "c. Circle:\n",
        "Draw a green-filled circle centered at (300, 50) with a radius of 20 pixels.\n",
        "d. Ellipse:\n",
        "Draw a black ellipse within a bounding rectangle at (300, 250) with dimensions 40 (width) and 80 (height). Set the thickness to 1 pixel.\n",
        "e. Rectangle:\n",
        "Draw a black rectangle with the top-left corner at (150, 300), width of 100 pixels, and height of 50 pixels.\n",
        "Ensure the program enters into an infinite loop to continuously display the drawn shapes. Include necessary initialization steps, such as setting up the Pygame window and handling the QUIT event."
      ],
      "metadata": {
        "id": "UgyuYliGAgwn"
      }
    },
    {
      "cell_type": "code",
      "source": [
        "import pygame\n",
        "import sys\n",
        "pygame.init()\n",
        "window_size = (400, 400)\n",
        "window = pygame.display.set_mode(window_size)\n",
        "pygame.display.set_caption(\"Shapes Drawing\")\n",
        "blue = (0, 0, 255)\n",
        "green = (0, 255, 0)\n",
        "black = (0, 0, 0)\n",
        "running = True\n",
        "while running:\n",
        "    for event in pygame.event.get():\n",
        "        if event.type == pygame.QUIT:\n",
        "            running = False\n",
        "    window.fill((255, 255, 255))\n",
        "    pygame.draw.polygon(window, blue, [(146, 0), (291, 106), (236, 277), (56, 277), (0, 106)])\n",
        "    pygame.draw.line(window, green, (60, 300), (120, 300), 4)\n",
        "    pygame.draw.circle(window, green, (300, 50), 20)\n",
        "    pygame.draw.ellipse(window, black, (300, 250, 40, 80), 1)\n",
        "    pygame.draw.rect(window, black, (150, 300, 100, 50))\n",
        "    pygame.display.update()\n",
        "    pygame.time.Clock().tick(60)\n",
        "pygame.quit()\n",
        "sys.exit()"
      ],
      "metadata": {
        "id": "HqCmUWH4Hu0M",
        "colab": {
          "base_uri": "https://localhost:8080/",
          "height": 280
        },
        "outputId": "aa93af63-9d3a-48a6-c12e-07e0b7a7ef89"
      },
      "execution_count": null,
      "outputs": [
        {
          "output_type": "stream",
          "name": "stdout",
          "text": [
            "pygame 2.5.2 (SDL 2.28.2, Python 3.10.12)\n",
            "Hello from the pygame community. https://www.pygame.org/contribute.html\n"
          ]
        },
        {
          "output_type": "error",
          "ename": "KeyboardInterrupt",
          "evalue": "",
          "traceback": [
            "\u001b[0;31m---------------------------------------------------------------------------\u001b[0m",
            "\u001b[0;31mKeyboardInterrupt\u001b[0m                         Traceback (most recent call last)",
            "\u001b[0;32m<ipython-input-1-fdb0b997de6d>\u001b[0m in \u001b[0;36m<cell line: 11>\u001b[0;34m()\u001b[0m\n\u001b[1;32m     20\u001b[0m     \u001b[0mpygame\u001b[0m\u001b[0;34m.\u001b[0m\u001b[0mdraw\u001b[0m\u001b[0;34m.\u001b[0m\u001b[0mrect\u001b[0m\u001b[0;34m(\u001b[0m\u001b[0mwindow\u001b[0m\u001b[0;34m,\u001b[0m \u001b[0mblack\u001b[0m\u001b[0;34m,\u001b[0m \u001b[0;34m(\u001b[0m\u001b[0;36m150\u001b[0m\u001b[0;34m,\u001b[0m \u001b[0;36m300\u001b[0m\u001b[0;34m,\u001b[0m \u001b[0;36m100\u001b[0m\u001b[0;34m,\u001b[0m \u001b[0;36m50\u001b[0m\u001b[0;34m)\u001b[0m\u001b[0;34m)\u001b[0m\u001b[0;34m\u001b[0m\u001b[0;34m\u001b[0m\u001b[0m\n\u001b[1;32m     21\u001b[0m     \u001b[0mpygame\u001b[0m\u001b[0;34m.\u001b[0m\u001b[0mdisplay\u001b[0m\u001b[0;34m.\u001b[0m\u001b[0mupdate\u001b[0m\u001b[0;34m(\u001b[0m\u001b[0;34m)\u001b[0m\u001b[0;34m\u001b[0m\u001b[0;34m\u001b[0m\u001b[0m\n\u001b[0;32m---> 22\u001b[0;31m     \u001b[0mpygame\u001b[0m\u001b[0;34m.\u001b[0m\u001b[0mtime\u001b[0m\u001b[0;34m.\u001b[0m\u001b[0mClock\u001b[0m\u001b[0;34m(\u001b[0m\u001b[0;34m)\u001b[0m\u001b[0;34m.\u001b[0m\u001b[0mtick\u001b[0m\u001b[0;34m(\u001b[0m\u001b[0;36m60\u001b[0m\u001b[0;34m)\u001b[0m\u001b[0;34m\u001b[0m\u001b[0;34m\u001b[0m\u001b[0m\n\u001b[0m\u001b[1;32m     23\u001b[0m \u001b[0mpygame\u001b[0m\u001b[0;34m.\u001b[0m\u001b[0mquit\u001b[0m\u001b[0;34m(\u001b[0m\u001b[0;34m)\u001b[0m\u001b[0;34m\u001b[0m\u001b[0;34m\u001b[0m\u001b[0m\n\u001b[1;32m     24\u001b[0m \u001b[0msys\u001b[0m\u001b[0;34m.\u001b[0m\u001b[0mexit\u001b[0m\u001b[0;34m(\u001b[0m\u001b[0;34m)\u001b[0m\u001b[0;34m\u001b[0m\u001b[0;34m\u001b[0m\u001b[0m\n",
            "\u001b[0;31mKeyboardInterrupt\u001b[0m: "
          ]
        }
      ]
    },
    {
      "cell_type": "markdown",
      "source": [
        "8. Write a python program that implements a multi-thread application that has\n",
        "three threads. First thread generates random integer every 1 second and if the\n",
        "value is even, second thread computes the square of the number and prints. If\n",
        "the value is odd, the third thread will print the value of cube of the number."
      ],
      "metadata": {
        "id": "4zxhPD9Y6Phq"
      }
    },
    {
      "cell_type": "code",
      "execution_count": null,
      "metadata": {
        "colab": {
          "base_uri": "https://localhost:8080/"
        },
        "id": "JyLU5Dxm6Lh4",
        "outputId": "699a32dd-a909-4562-9e0b-8180b3c631ff"
      },
      "outputs": [
        {
          "output_type": "stream",
          "name": "stdout",
          "text": [
            "Generated: 86\n",
            "Square: 7396\n",
            "Generated: 24\n",
            "Square: 576\n",
            "Generated: 5\n",
            "Cube: 125\n",
            "Generated: 52\n",
            "Square: 2704\n",
            "Generated: 24\n",
            "Square: 576\n",
            "Generated: 71\n",
            "Cube: 357911\n",
            "Generated: 58\n",
            "Square: 3364\n",
            "Generated: 35\n",
            "Cube: 42875\n",
            "Generated: 84\n",
            "Square: 7056\n",
            "Generated: 31\n",
            "Cube: 29791\n",
            "Generated: 54\n",
            "Square: 2916\n",
            "Generated: 98\n",
            "Square: 9604\n",
            "Generated: 24\n",
            "Square: 576\n",
            "Generated: 82\n",
            "Square: 6724\n",
            "Generated: 60\n",
            "Square: 3600\n",
            "Generated: 67\n",
            "Cube: 300763\n",
            "Generated: 90\n",
            "Square: 8100\n",
            "Generated: 7\n",
            "Cube: 343\n",
            "Generated: 53\n",
            "Generated: 68\n",
            "Square: 4624\n",
            "Cube: 148877\n",
            "Generated: 56\n",
            "Square: 3136\n",
            "Generated: 100\n",
            "Square: 10000\n",
            "Threads stopped.\n"
          ]
        }
      ],
      "source": [
        "import threading\n",
        "import random\n",
        "import time\n",
        "import queue\n",
        "even_queue = queue.Queue()\n",
        "odd_queue = queue.Queue()\n",
        "stop_threads = False\n",
        "def generate_random_integer():\n",
        "    while not stop_threads:\n",
        "        value = random.randint(1, 100)\n",
        "        print(f\"Generated: {value}\")\n",
        "        if value % 2 == 0:\n",
        "            even_queue.put(value)\n",
        "        else:\n",
        "            odd_queue.put(value)\n",
        "        time.sleep(1)\n",
        "def compute_square():\n",
        "    while not stop_threads:\n",
        "        try:\n",
        "            value = even_queue.get(timeout=1)  # Timeout to handle empty queue\n",
        "            square = value ** 2\n",
        "            print(f\"Square: {square}\")\n",
        "        except queue.Empty:\n",
        "            pass\n",
        "        time.sleep(1)\n",
        "def compute_cube():\n",
        "    while not stop_threads:\n",
        "        try:\n",
        "            value = odd_queue.get(timeout=1)  # Timeout to handle empty queue\n",
        "            cube = value ** 3\n",
        "            print(f\"Cube: {cube}\")\n",
        "        except queue.Empty:\n",
        "            pass\n",
        "        time.sleep(1)\n",
        "thread1 = threading.Thread(target=generate_random_integer)\n",
        "thread2 = threading.Thread(target=compute_square)\n",
        "thread3 = threading.Thread(target=compute_cube)\n",
        "thread1.start()\n",
        "thread2.start()\n",
        "thread3.start()\n",
        "time.sleep(10)\n",
        "stop_threads = True\n",
        "thread1.join()\n",
        "thread2.join()\n",
        "thread3.join()\n",
        "print(\"Threads stopped.\")"
      ]
    },
    {
      "cell_type": "markdown",
      "source": [
        "9. Write a simulation program for the vegetable market. The farmer will be able to\n",
        "produce different types of vegetables put them in the market to sell. The market\n",
        "has limited capacity and farmers must wait if the capacity is exceeded to sell\n",
        "their vegetables. Consumers can come to the market and purchase their desired\n",
        "vegetable if available; and if the vegetable they want to buy runs out, they are\n",
        "willing to wait until the supply of that kind is ready"
      ],
      "metadata": {
        "id": "d15bx3Kz6qSm"
      }
    },
    {
      "cell_type": "code",
      "source": [
        "import threading\n",
        "import time\n",
        "import random\n",
        "class VegetableMarket:\n",
        "    def __init__(self, capacity):\n",
        "        self.capacity = capacity\n",
        "        self.available_vegetables = {}\n",
        "        self.market_lock = threading.Lock()\n",
        "    def farmer_produce_vegetable(self, farmer_id):\n",
        "        while True:\n",
        "            time.sleep(random.uniform(1, 3))  # Simulate time to produce vegetables\n",
        "            vegetable_type = random.choice(['Carrot', 'Tomato', 'Cucumber'])\n",
        "            with self.market_lock:\n",
        "                self.available_vegetables.setdefault(vegetable_type, 0)\n",
        "                self.available_vegetables[vegetable_type] += 1\n",
        "                print(f\"Farmer {farmer_id} produced {vegetable_type}. Available {vegetable_type}s: {self.available_vegetables}\")\n",
        "                while sum(self.available_vegetables.values()) >= self.capacity:\n",
        "                    print(f\"Market full! Farmer {farmer_id} is waiting.\")\n",
        "                    self.market_lock.release()\n",
        "                    time.sleep(1)\n",
        "    def consumer_buy_vegetable(self, consumer_id, vegetable_type):\n",
        "        while True:\n",
        "            with self.market_lock:\n",
        "                if self.available_vegetables.get(vegetable_type, 0) > 0:\n",
        "                    self.available_vegetables[vegetable_type] -= 1\n",
        "                    print(f\"Consumer {consumer_id} bought {vegetable_type}. Remaining {vegetable_type}s: {self.available_vegetables}\")\n",
        "                    break\n",
        "                else:\n",
        "                    print(f\"Consumer {consumer_id} is waiting for {vegetable_type}.\")\n",
        "                    self.market_lock.release()\n",
        "                    time.sleep(1)\n",
        "    def run_market(self):\n",
        "        while True:\n",
        "            time.sleep(random.uniform(1, 3))  # Simulate time between consumers arriving\n",
        "            vegetable_type = random.choice(['Carrot', 'Tomato', 'Cucumber'])\n",
        "            consumer_id = random.randint(1, 100)\n",
        "            print(f\"Consumer {consumer_id} arrived and wants to buy {vegetable_type}.\")\n",
        "            threading.Thread(target=self.consumer_buy_vegetable, args=(consumer_id, vegetable_type)).start()\n",
        "market = VegetableMarket(capacity=5)\n",
        "for i in range(3):\n",
        "    threading.Thread(target=market.farmer_produce_vegetable, args=(i + 1,)).start()\n",
        "market.run_market()"
      ],
      "metadata": {
        "colab": {
          "base_uri": "https://localhost:8080/",
          "height": 1000
        },
        "id": "034ENUze7Dh-",
        "outputId": "b267db53-2010-4f17-826c-8a450f3ef262"
      },
      "execution_count": null,
      "outputs": [
        {
          "output_type": "stream",
          "name": "stdout",
          "text": [
            "Generated: 97\n",
            "Generated: 45\n",
            "Farmer 3 produced Tomato. Available Tomatos: {'Tomato': 1}\n",
            "Consumer 72 arrived and wants to buy Cucumber.\n",
            "Consumer 72 is waiting for Cucumber.\n",
            "Generated: 33\n",
            "Farmer 1 produced Cucumber. Available Cucumbers: {'Tomato': 1, 'Cucumber': 1}\n",
            "Farmer 2 produced Tomato. Available Tomatos: {'Tomato': 2, 'Cucumber': 1}\n"
          ]
        },
        {
          "output_type": "stream",
          "name": "stderr",
          "text": [
            "Exception in thread Thread-62 (consumer_buy_vegetable):\n",
            "Traceback (most recent call last):\n",
            "  File \"/usr/lib/python3.10/threading.py\", line 1016, in _bootstrap_inner\n",
            "    self.run()\n",
            "  File \"/usr/lib/python3.10/threading.py\", line 953, in run\n",
            "    self._target(*self._args, **self._kwargs)\n",
            "  File \"<ipython-input-9-ad3ca0250a49>\", line 29, in consumer_buy_vegetable\n",
            "RuntimeError: release unlocked lock\n"
          ]
        },
        {
          "output_type": "stream",
          "name": "stdout",
          "text": [
            "Generated: 99\n",
            "Consumer 96 arrived and wants to buy Tomato.\n",
            "Farmer 1 produced Cucumber. Available Cucumbers: {'Tomato': 2, 'Cucumber': 2}\n",
            "Consumer 96 bought Tomato. Remaining Tomatos: {'Tomato': 1, 'Cucumber': 2}\n",
            "Farmer 2 produced Carrot. Available Carrots: {'Tomato': 1, 'Cucumber': 2, 'Carrot': 1}\n",
            "Farmer 3 produced Cucumber. Available Cucumbers: {'Tomato': 1, 'Cucumber': 3, 'Carrot': 1}\n",
            "Market full! Farmer 3 is waiting.\n",
            "Generated: 44\n",
            "Square: 1936\n"
          ]
        },
        {
          "output_type": "stream",
          "name": "stderr",
          "text": [
            "Exception in thread Thread-61 (farmer_produce_vegetable):\n",
            "Traceback (most recent call last):\n",
            "  File \"<ipython-input-9-ad3ca0250a49>\", line 24, in farmer_produce_vegetable\n",
            "RuntimeError: release unlocked lock\n",
            "\n",
            "During handling of the above exception, another exception occurred:\n",
            "\n",
            "Traceback (most recent call last):\n",
            "  File \"/usr/lib/python3.10/threading.py\", line 1016, in _bootstrap_inner\n",
            "    self.run()\n",
            "  File \"/usr/lib/python3.10/threading.py\", line 953, in run\n",
            "    self._target(*self._args, **self._kwargs)\n",
            "  File \"<ipython-input-9-ad3ca0250a49>\", line 16, in farmer_produce_vegetable\n",
            "RuntimeError: release unlocked lock\n"
          ]
        },
        {
          "output_type": "stream",
          "name": "stdout",
          "text": [
            "Market full! Farmer 3 is waiting.\n",
            "Generated: 34\n",
            "Square: 1156\n",
            "Farmer 1 produced Tomato. Available Tomatos: {'Tomato': 2, 'Cucumber': 3, 'Carrot': 1}\n",
            "Market full! Farmer 1 is waiting.\n",
            "Consumer 75 arrived and wants to buy Tomato.\n",
            "Consumer 75 bought Tomato. Remaining Tomatos: {'Tomato': 1, 'Cucumber': 3, 'Carrot': 1}\n",
            "Generated: 65\n",
            "Farmer 2 produced Cucumber. Available Cucumbers: {'Tomato': 1, 'Cucumber': 4, 'Carrot': 1}\n",
            "Market full! Farmer 2 is waiting.\n"
          ]
        },
        {
          "output_type": "stream",
          "name": "stderr",
          "text": [
            "Exception in thread Thread-59 (farmer_produce_vegetable):\n",
            "Traceback (most recent call last):\n",
            "  File \"<ipython-input-9-ad3ca0250a49>\", line 24, in farmer_produce_vegetable\n",
            "RuntimeError: release unlocked lock\n",
            "\n",
            "During handling of the above exception, another exception occurred:\n",
            "\n",
            "Traceback (most recent call last):\n",
            "  File \"/usr/lib/python3.10/threading.py\", line 1016, in _bootstrap_inner\n",
            "    self.run()\n",
            "  File \"/usr/lib/python3.10/threading.py\", line 953, in run\n",
            "    self._target(*self._args, **self._kwargs)\n",
            "  File \"<ipython-input-9-ad3ca0250a49>\", line 16, in farmer_produce_vegetable\n",
            "RuntimeError: release unlocked lock\n"
          ]
        },
        {
          "output_type": "stream",
          "name": "stdout",
          "text": [
            "Market full! Farmer 1 is waiting.\n"
          ]
        },
        {
          "output_type": "stream",
          "name": "stderr",
          "text": [
            "Exception in thread Thread-60 (farmer_produce_vegetable):\n",
            "Traceback (most recent call last):\n",
            "  File \"<ipython-input-9-ad3ca0250a49>\", line 24, in farmer_produce_vegetable\n",
            "RuntimeError: release unlocked lock\n",
            "\n",
            "During handling of the above exception, another exception occurred:\n",
            "\n",
            "Traceback (most recent call last):\n",
            "  File \"/usr/lib/python3.10/threading.py\", line 1016, in _bootstrap_inner\n",
            "    self.run()\n",
            "  File \"/usr/lib/python3.10/threading.py\", line 953, in run\n",
            "    self._target(*self._args, **self._kwargs)\n",
            "  File \"<ipython-input-9-ad3ca0250a49>\", line 16, in farmer_produce_vegetable\n",
            "RuntimeError: release unlocked lock\n"
          ]
        },
        {
          "output_type": "stream",
          "name": "stdout",
          "text": [
            "Generated: 72\n",
            "Square: 5184\n",
            "Market full! Farmer 2 is waiting.\n",
            "Consumer 70 arrived and wants to buy Carrot.\n",
            "Consumer 70 bought Carrot. Remaining Carrots: {'Tomato': 1, 'Cucumber': 4, 'Carrot': 0}\n",
            "Generated: 19\n",
            "Consumer 53 arrived and wants to buy Tomato.\n",
            "Consumer 53 bought Tomato. Remaining Tomatos: {'Tomato': 0, 'Cucumber': 4, 'Carrot': 0}\n",
            "Generated: 32\n",
            "Square: 1024\n",
            "Generated: 17\n",
            "Consumer 30 arrived and wants to buy Carrot.\n",
            "Consumer 30 is waiting for Carrot.\n",
            "Generated: 16\n",
            "Square: 256\n"
          ]
        },
        {
          "output_type": "stream",
          "name": "stderr",
          "text": [
            "Exception in thread Thread-67 (consumer_buy_vegetable):\n",
            "Traceback (most recent call last):\n",
            "  File \"/usr/lib/python3.10/threading.py\", line 1016, in _bootstrap_inner\n",
            "    self.run()\n",
            "  File \"/usr/lib/python3.10/threading.py\", line 953, in run\n",
            "    self._target(*self._args, **self._kwargs)\n",
            "  File \"<ipython-input-9-ad3ca0250a49>\", line 29, in consumer_buy_vegetable\n",
            "RuntimeError: release unlocked lock\n"
          ]
        },
        {
          "output_type": "stream",
          "name": "stdout",
          "text": [
            "Generated: 69\n",
            "Consumer 75 arrived and wants to buy Cucumber.\n",
            "Consumer 75 bought Cucumber. Remaining Cucumbers: {'Tomato': 0, 'Cucumber': 3, 'Carrot': 0}\n",
            "Generated: 46\n",
            "Square: 2116\n"
          ]
        },
        {
          "output_type": "error",
          "ename": "KeyboardInterrupt",
          "evalue": "",
          "traceback": [
            "\u001b[0;31m---------------------------------------------------------------------------\u001b[0m",
            "\u001b[0;31mKeyboardInterrupt\u001b[0m                         Traceback (most recent call last)",
            "\u001b[0;32m<ipython-input-9-ad3ca0250a49>\u001b[0m in \u001b[0;36m<cell line: 55>\u001b[0;34m()\u001b[0m\n\u001b[1;32m     53\u001b[0m \u001b[0;34m\u001b[0m\u001b[0m\n\u001b[1;32m     54\u001b[0m \u001b[0;31m# Run the market simulation\u001b[0m\u001b[0;34m\u001b[0m\u001b[0;34m\u001b[0m\u001b[0m\n\u001b[0;32m---> 55\u001b[0;31m \u001b[0mmarket\u001b[0m\u001b[0;34m.\u001b[0m\u001b[0mrun_market\u001b[0m\u001b[0;34m(\u001b[0m\u001b[0;34m)\u001b[0m\u001b[0;34m\u001b[0m\u001b[0;34m\u001b[0m\u001b[0m\n\u001b[0m",
            "\u001b[0;32m<ipython-input-9-ad3ca0250a49>\u001b[0m in \u001b[0;36mrun_market\u001b[0;34m(self)\u001b[0m\n\u001b[1;32m     39\u001b[0m     \u001b[0;32mdef\u001b[0m \u001b[0mrun_market\u001b[0m\u001b[0;34m(\u001b[0m\u001b[0mself\u001b[0m\u001b[0;34m)\u001b[0m\u001b[0;34m:\u001b[0m\u001b[0;34m\u001b[0m\u001b[0;34m\u001b[0m\u001b[0m\n\u001b[1;32m     40\u001b[0m         \u001b[0;32mwhile\u001b[0m \u001b[0;32mTrue\u001b[0m\u001b[0;34m:\u001b[0m\u001b[0;34m\u001b[0m\u001b[0;34m\u001b[0m\u001b[0m\n\u001b[0;32m---> 41\u001b[0;31m             \u001b[0mtime\u001b[0m\u001b[0;34m.\u001b[0m\u001b[0msleep\u001b[0m\u001b[0;34m(\u001b[0m\u001b[0mrandom\u001b[0m\u001b[0;34m.\u001b[0m\u001b[0muniform\u001b[0m\u001b[0;34m(\u001b[0m\u001b[0;36m1\u001b[0m\u001b[0;34m,\u001b[0m \u001b[0;36m3\u001b[0m\u001b[0;34m)\u001b[0m\u001b[0;34m)\u001b[0m  \u001b[0;31m# Simulate time between consumers arriving\u001b[0m\u001b[0;34m\u001b[0m\u001b[0;34m\u001b[0m\u001b[0m\n\u001b[0m\u001b[1;32m     42\u001b[0m             \u001b[0mvegetable_type\u001b[0m \u001b[0;34m=\u001b[0m \u001b[0mrandom\u001b[0m\u001b[0;34m.\u001b[0m\u001b[0mchoice\u001b[0m\u001b[0;34m(\u001b[0m\u001b[0;34m[\u001b[0m\u001b[0;34m'Carrot'\u001b[0m\u001b[0;34m,\u001b[0m \u001b[0;34m'Tomato'\u001b[0m\u001b[0;34m,\u001b[0m \u001b[0;34m'Cucumber'\u001b[0m\u001b[0;34m]\u001b[0m\u001b[0;34m)\u001b[0m\u001b[0;34m\u001b[0m\u001b[0;34m\u001b[0m\u001b[0m\n\u001b[1;32m     43\u001b[0m             \u001b[0mconsumer_id\u001b[0m \u001b[0;34m=\u001b[0m \u001b[0mrandom\u001b[0m\u001b[0;34m.\u001b[0m\u001b[0mrandint\u001b[0m\u001b[0;34m(\u001b[0m\u001b[0;36m1\u001b[0m\u001b[0;34m,\u001b[0m \u001b[0;36m100\u001b[0m\u001b[0;34m)\u001b[0m\u001b[0;34m\u001b[0m\u001b[0;34m\u001b[0m\u001b[0m\n",
            "\u001b[0;31mKeyboardInterrupt\u001b[0m: "
          ]
        }
      ]
    },
    {
      "cell_type": "code",
      "source": [
        "import threading\n",
        "import time\n",
        "import random\n",
        "\n",
        "class VegetableMarket:\n",
        "    def __init__(self, capacity):\n",
        "        self.capacity = capacity\n",
        "        self.vegetables = {}\n",
        "        self.lock = threading.Lock()\n",
        "        self.iteration_count = 0\n",
        "        self.max_iterations = 5\n",
        "\n",
        "    def farmer_produce_vegetable(self, farmer_id):\n",
        "        while self.iteration_count < self.max_iterations:\n",
        "            time.sleep(random.uniform(1, 3))\n",
        "            veg_type = random.choice(['Carrot', 'Tomato', 'Cucumber'])\n",
        "            with self.lock:\n",
        "                self.vegetables.setdefault(veg_type, 0)\n",
        "                self.vegetables[veg_type] += 1\n",
        "                print(f\"Farmer {farmer_id} produced {veg_type}. Available {veg_type}s: {self.vegetables}\")\n",
        "                while sum(self.vegetables.values()) >= self.capacity:\n",
        "                    print(f\"Market full! Farmer {farmer_id} is waiting.\")\n",
        "                    self.lock.release()\n",
        "                    time.sleep(1)\n",
        "            self.iteration_count += 1\n",
        "\n",
        "    def consumer_buy_vegetable(self, consumer_id, veg_type):\n",
        "        while self.iteration_count < self.max_iterations:\n",
        "            with self.lock:\n",
        "                if self.vegetables.get(veg_type, 0) > 0:\n",
        "                    self.vegetables[veg_type] -= 1\n",
        "                    print(f\"Consumer {consumer_id} bought {veg_type}. Remaining {veg_type}s: {self.vegetables}\")\n",
        "                    break\n",
        "                else:\n",
        "                    print(f\"Consumer {consumer_id} is waiting for {veg_type}.\")\n",
        "                    self.lock.release()\n",
        "                    time.sleep(1)\n",
        "            self.iteration_count += 1\n",
        "\n",
        "    def run_market(self):\n",
        "        while self.iteration_count < self.max_iterations:\n",
        "            time.sleep(random.uniform(1, 3))\n",
        "            veg_type = random.choice(['Carrot', 'Tomato', 'Cucumber'])\n",
        "            consumer_id = random.randint(1, 100)\n",
        "            print(f\"Consumer {consumer_id} arrived and wants to buy {veg_type}.\")\n",
        "            threading.Thread(target=self.consumer_buy_vegetable, args=(consumer_id, veg_type)).start()\n",
        "\n",
        "market = VegetableMarket(capacity=5)\n",
        "for i in range(3):\n",
        "    threading.Thread(target=market.farmer_produce_vegetable, args=(i + 1,)).start()\n",
        "market.run_market()\n"
      ],
      "metadata": {
        "colab": {
          "base_uri": "https://localhost:8080/"
        },
        "id": "bO6oyqyRyoak",
        "outputId": "4725ed88-fc29-4f9b-ae06-d973091fd5c7"
      },
      "execution_count": null,
      "outputs": [
        {
          "output_type": "stream",
          "name": "stdout",
          "text": [
            "Farmer 2 produced Tomato. Available Tomatos: {'Tomato': 1}\n",
            "Consumer 34 arrived and wants to buy Carrot.\n",
            "Consumer 34 is waiting for Carrot.\n",
            "Farmer 3 produced Cucumber. Available Cucumbers: {'Tomato': 1, 'Cucumber': 1}\n",
            "Farmer 1 produced Cucumber. Available Cucumbers: {'Tomato': 1, 'Cucumber': 2}\n"
          ]
        },
        {
          "output_type": "stream",
          "name": "stderr",
          "text": [
            "Exception in thread Thread-66 (consumer_buy_vegetable):\n",
            "Traceback (most recent call last):\n",
            "  File \"/usr/lib/python3.10/threading.py\", line 1016, in _bootstrap_inner\n",
            "    self.run()\n",
            "  File \"/usr/lib/python3.10/threading.py\", line 953, in run\n",
            "    self._target(*self._args, **self._kwargs)\n",
            "  File \"<ipython-input-5-96c4a280c596>\", line 29, in consumer_buy_vegetable\n",
            "RuntimeError: release unlocked lock\n"
          ]
        },
        {
          "output_type": "stream",
          "name": "stdout",
          "text": [
            "Farmer 2 produced Carrot. Available Carrots: {'Tomato': 1, 'Cucumber': 2, 'Carrot': 1}\n",
            "Consumer 77 arrived and wants to buy Tomato.\n",
            "Consumer 77 bought Tomato. Remaining Tomatos: {'Tomato': 0, 'Cucumber': 2, 'Carrot': 1}\n",
            "Farmer 3 produced Tomato. Available Tomatos: {'Tomato': 1, 'Cucumber': 2, 'Carrot': 1}\n",
            "Farmer 1 produced Tomato. Available Tomatos: {'Tomato': 2, 'Cucumber': 2, 'Carrot': 1}\n",
            "Market full! Farmer 1 is waiting.\n",
            "Consumer 83 arrived and wants to buy Cucumber.\n"
          ]
        }
      ]
    },
    {
      "cell_type": "markdown",
      "source": [
        "10. Write a Python program that demonstrates the use of multithreading. Your\n",
        "program should include the following components:\n",
        "1. Thread Creation:  Create two threads, each responsible for executing a different\n",
        "function concurrently.\n",
        "2. Functionality:  Define two functions, function_A and function_B, where\n",
        "function_A prints numbers from 1 to 5, and function_B prints\n",
        "letters 'A' to 'E'. Ensure that both functions have a delay between\n",
        "prints to simulate time-consuming tasks.\n",
        "3. Thread Execution:  Start both threads to run concurrently.\n",
        "4. Synchronization:  Implement a mechanism to synchronize the threads so that the\n",
        "numbers and letters are printed in an alternating fashion (e.g., 1,\n",
        "'A', 2, 'B', ...).\n",
        "5. Thread Termination:  Ensure that the program waits for both threads to complete their\n",
        "tasks before terminating."
      ],
      "metadata": {
        "id": "0lz_yJ9_7MFJ"
      }
    },
    {
      "cell_type": "code",
      "source": [
        "import threading\n",
        "import time\n",
        "print_lock = threading.Lock()\n",
        "def function_A():\n",
        "    for num in range(1, 6):\n",
        "        time.sleep(1)  # Simulate time-consuming task\n",
        "        with print_lock:\n",
        "            print(num, end=' ')\n",
        "def function_B():\n",
        "    for char in ['A', 'B', 'C', 'D', 'E']:\n",
        "        time.sleep(1)  # Simulate time-consuming task\n",
        "        with print_lock:\n",
        "            print(char, end=' ')\n",
        "thread_A = threading.Thread(target=function_A)\n",
        "thread_B = threading.Thread(target=function_B)\n",
        "thread_A.start()\n",
        "thread_B.start()\n",
        "thread_A.join()\n",
        "thread_B.join()\n",
        "print(\"\\nProgram completed.\")\n"
      ],
      "metadata": {
        "colab": {
          "base_uri": "https://localhost:8080/"
        },
        "id": "kIVwV8u-7SEn",
        "outputId": "79c59843-a8b1-469b-881a-feefba8662d1"
      },
      "execution_count": null,
      "outputs": [
        {
          "output_type": "stream",
          "name": "stdout",
          "text": [
            "1 A 2 B 3 C 4 D 5 E \n",
            "Program completed.\n"
          ]
        }
      ]
    }
  ]
}