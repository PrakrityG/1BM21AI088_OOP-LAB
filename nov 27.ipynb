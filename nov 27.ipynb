{
  "nbformat": 4,
  "nbformat_minor": 0,
  "metadata": {
    "colab": {
      "provenance": []
    },
    "kernelspec": {
      "name": "python3",
      "display_name": "Python 3"
    },
    "language_info": {
      "name": "python"
    }
  },
  "cells": [
    {
      "cell_type": "markdown",
      "source": [
        "create class number with only one \\ variable as a double primitive type. to include the following methods(include respective instructors) iszero(),ispositive(),isnegative(),isodd(),iseven(),isprime(),isarmstrong(). the above methods return boolean type. getfactorial(),getsqrt(),sumdigits(),getreverse() the above methods return double primitive type. write the driver class for main method which invokes each method using object."
      ],
      "metadata": {
        "id": "B-icEfIpjbCU"
      }
    },
    {
      "cell_type": "code",
      "source": [
        "class Number:\n",
        "    def __init__(self, value):\n",
        "        self.value = float(value)\n",
        "\n",
        "    def iszero(self):\n",
        "        return self.value == 0\n",
        "\n",
        "    def ispositive(self):\n",
        "        return self.value > 0\n",
        "\n",
        "    def isnegative(self):\n",
        "        return self.value < 0\n",
        "\n",
        "    def isodd(self):\n",
        "        return self.value % 2 != 0\n",
        "\n",
        "    def iseven(self):\n",
        "        return self.value % 2 == 0\n",
        "\n",
        "    def isprime(self):\n",
        "        if self.value < 2:\n",
        "            return False\n",
        "        for i in range(2, int(self.value**0.5) + 1):\n",
        "            if self.value % i == 0:\n",
        "                return False\n",
        "        return True\n",
        "\n",
        "    def isarmstrong(self):\n",
        "        temp = self.value\n",
        "        order = len(str(self.value))\n",
        "        result = 0\n",
        "        while temp > 0:\n",
        "            digit = temp % 10\n",
        "            result += digit ** order\n",
        "            temp //= 10\n",
        "        return result == self.value\n",
        "\n",
        "    def getfactorial(self):\n",
        "        if self.value < 0:\n",
        "            return \"Factorial is not defined for negative numbers\"\n",
        "        result = 1\n",
        "        for i in range(1, int(self.value) + 1):\n",
        "            result *= i\n",
        "        return result\n",
        "\n",
        "    def getsqrt(self):\n",
        "        return self.value ** 0.5\n",
        "\n",
        "    def sumdigits(self):\n",
        "        return sum(int(digit) for digit in str(int(abs(self.value))))\n",
        "\n",
        "    def getreverse(self):\n",
        "        return float(str(abs(self.value))[::-1]) if self.value >= 0 else -float(str(abs(self.value))[::-1])\n",
        "\n",
        "# Driver class\n",
        "if __name__ == \"__main__\":\n",
        "    num = Number(2.5)  # You can change the value as needed\n",
        "\n",
        "    # Test each method\n",
        "    print(f\"Is Zero: {num.iszero()}\")\n",
        "    print(f\"Is Positive: {num.ispositive()}\")\n",
        "    print(f\"Is Negative: {num.isnegative()}\")\n",
        "    print(f\"Is Odd: {num.isodd()}\")\n",
        "    print(f\"Is Even: {num.iseven()}\")\n",
        "    print(f\"Is Prime: {num.isprime()}\")\n",
        "    print(f\"Is Armstrong: {num.isarmstrong()}\")\n",
        "    print(f\"Factorial: {num.getfactorial()}\")\n",
        "    print(f\"Square Root: {num.getsqrt()}\")\n",
        "    print(f\"Sum of Digits: {num.sumdigits()}\")\n",
        "    print(f\"Reverse: {num.getreverse()}\")\n"
      ],
      "metadata": {
        "colab": {
          "base_uri": "https://localhost:8080/"
        },
        "id": "eAzfeDAwqQFK",
        "outputId": "262cb6e8-500f-4438-be0b-c4c5f7385fda"
      },
      "execution_count": 10,
      "outputs": [
        {
          "output_type": "stream",
          "name": "stdout",
          "text": [
            "Is Zero: False\n",
            "Is Positive: True\n",
            "Is Negative: False\n",
            "Is Odd: True\n",
            "Is Even: False\n",
            "Is Prime: True\n",
            "Is Armstrong: False\n",
            "Factorial: 2\n",
            "Square Root: 1.5811388300841898\n",
            "Sum of Digits: 2\n",
            "Reverse: 5.2\n"
          ]
        }
      ]
    },
    {
      "cell_type": "markdown",
      "source": [
        "complex numbers sum using class"
      ],
      "metadata": {
        "id": "-t0f_nWEkulM"
      }
    },
    {
      "cell_type": "code",
      "source": [
        "class Complex ():\n",
        "    def initComplex(self):\n",
        "        self.realPart = int(input(\"Enter the Real Part: \"))\n",
        "        self.imgPart = int(input(\"Enter the Imaginary Part: \"))\n",
        "\n",
        "    def display(self):\n",
        "        print(self.realPart,\"+\",self.imgPart,\"i\", sep=\"\")\n",
        "\n",
        "    def sum(self, c1, c2):\n",
        "        self.realPart = c1.realPart + c2.realPart\n",
        "        self.imgPart = c1.imgPart + c2.imgPart\n",
        "\n",
        "c1 = Complex()\n",
        "c2 = Complex()\n",
        "c3 = Complex()\n",
        "\n",
        "print(\"Enter first complex number\")\n",
        "c1.initComplex()\n",
        "print(\"First Complex Number: \", end=\"\")\n",
        "c1.display()\n",
        "\n",
        "print(\"Enter second complex number\")\n",
        "c2.initComplex()\n",
        "print(\"Second Complex Number: \", end=\"\")\n",
        "c2.display()\n",
        "\n",
        "print(\"Sum of two complex numbers is \", end=\"\")\n",
        "c3.sum(c1,c2)\n",
        "c3.display()\n",
        "\n"
      ],
      "metadata": {
        "colab": {
          "base_uri": "https://localhost:8080/"
        },
        "id": "ghs6DTyzkxv7",
        "outputId": "27d9db2c-4c16-4e32-ac5e-6c4c7176905f"
      },
      "execution_count": 1,
      "outputs": [
        {
          "output_type": "stream",
          "name": "stdout",
          "text": [
            "Enter first complex number\n",
            "Enter the Real Part: 2\n",
            "Enter the Imaginary Part: 3\n",
            "First Complex Number: 2+3i\n",
            "Enter second complex number\n",
            "Enter the Real Part: 4\n",
            "Enter the Imaginary Part: 7\n",
            "Second Complex Number: 4+7i\n",
            "Sum of two complex numbers is 6+10i\n"
          ]
        }
      ]
    },
    {
      "cell_type": "code",
      "source": [],
      "metadata": {
        "id": "-FNt713enJJj"
      },
      "execution_count": null,
      "outputs": []
    }
  ]
}